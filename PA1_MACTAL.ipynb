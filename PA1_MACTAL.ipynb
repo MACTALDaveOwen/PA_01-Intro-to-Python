{
 "cells": [
  {
   "cell_type": "code",
   "execution_count": null,
   "id": "9daf3f87-ce54-4284-8aa6-f8f1d7842df2",
   "metadata": {},
   "outputs": [],
   "source": [
    "def alphabet_soup(string):\n",
    "    #breaks the string to individual characters\n",
    "    letters = list(string)\n",
    "    #sort characters alphabetically (from A to Z)\n",
    "    letters.sort()\n",
    "    return \"\".join(letters)\n",
    "\n",
    "#ask the user for string input to sort ten prints a sorted version\n",
    "user_list = input(\"Enter a word: \")\n",
    "print(\"sorted string: \", alphabet_soup(user_list))"
   ]
  },
  {
   "cell_type": "code",
   "execution_count": null,
   "id": "947b4c68-f6d6-4488-b6a0-43f62170add0",
   "metadata": {},
   "outputs": [],
   "source": [
    "def emotify(sentence):\n",
    "    #dictionary definition of words equivalent to its emoji\n",
    "    emoji = { \"smile\": \":)\", \"grin\": \":D\", \"sad\": \":((\", \"mad\": \">:(\"}\n",
    "    #loop to search the dictionary for each corresponding case\n",
    "    for word in emoji:\n",
    "        sentence = sentence.replace(word, emoji[word])\n",
    "        sentence = sentence.replace(word.capitalize(), emoji[word])\n",
    "        sentence = sentence.replace(word.upper(), emoji[word])\n",
    "    \n",
    "    return sentence\n",
    "        \n",
    "#ask for user input which word to convert to an emoji\n",
    "user = input(\"Enter a word you wish to be converted:\")\n",
    "print (emotify(user))"
   ]
  },
  {
   "cell_type": "code",
   "execution_count": null,
   "id": "7588d6c8-6ef8-4512-9ded-32532788e3c1",
   "metadata": {},
   "outputs": [],
   "source": [
    "#asks the use for list of items\n",
    "user_list = input(\"Enter the items of your list separated by a space: \")\n",
    "#splits the input in a list\n",
    "items = user_list.split()\n",
    "#unpack to first, middle and last\n",
    "first, *middle, last = items\n",
    "#prints result in a single line\n",
    "print (\"First: \", first, \"\\tMiddle: \", \"[\" + \",\".join(middle) + \"]\", \"\\tLast: \", last)"
   ]
  },
  {
   "cell_type": "code",
   "execution_count": null,
   "id": "56a794cd-8763-4e21-b676-1ffd792980fd",
   "metadata": {},
   "outputs": [],
   "source": []
  }
 ],
 "metadata": {
  "kernelspec": {
   "display_name": "Python 3 (ipykernel)",
   "language": "python",
   "name": "python3"
  },
  "language_info": {
   "codemirror_mode": {
    "name": "ipython",
    "version": 3
   },
   "file_extension": ".py",
   "mimetype": "text/x-python",
   "name": "python",
   "nbconvert_exporter": "python",
   "pygments_lexer": "ipython3",
   "version": "3.13.5"
  }
 },
 "nbformat": 4,
 "nbformat_minor": 5
}
